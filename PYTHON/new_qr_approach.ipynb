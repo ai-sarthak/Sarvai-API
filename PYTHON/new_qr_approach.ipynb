{
 "cells": [
  {
   "cell_type": "code",
   "execution_count": null,
   "metadata": {},
   "outputs": [],
   "source": []
  },
  {
   "cell_type": "code",
   "execution_count": null,
   "metadata": {},
   "outputs": [],
   "source": []
  },
  {
   "cell_type": "code",
   "execution_count": 8,
   "metadata": {},
   "outputs": [
    {
     "name": "stdout",
     "output_type": "stream",
     "text": [
      "Requirement already satisfied: qrcode[pil] in c:\\users\\dell\\appdata\\local\\packages\\pythonsoftwarefoundation.python.3.10_qbz5n2kfra8p0\\localcache\\local-packages\\python310\\site-packages (7.4.2)\n",
      "Requirement already satisfied: Pillow in c:\\users\\dell\\appdata\\local\\packages\\pythonsoftwarefoundation.python.3.10_qbz5n2kfra8p0\\localcache\\local-packages\\python310\\site-packages (9.4.0)\n",
      "Requirement already satisfied: typing-extensions in c:\\users\\dell\\appdata\\local\\packages\\pythonsoftwarefoundation.python.3.10_qbz5n2kfra8p0\\localcache\\local-packages\\python310\\site-packages (from qrcode[pil]) (4.9.0)\n",
      "Requirement already satisfied: pypng in c:\\users\\dell\\appdata\\local\\packages\\pythonsoftwarefoundation.python.3.10_qbz5n2kfra8p0\\localcache\\local-packages\\python310\\site-packages (from qrcode[pil]) (0.20220715.0)\n",
      "Requirement already satisfied: colorama in c:\\users\\dell\\appdata\\local\\packages\\pythonsoftwarefoundation.python.3.10_qbz5n2kfra8p0\\localcache\\local-packages\\python310\\site-packages (from qrcode[pil]) (0.4.6)\n"
     ]
    },
    {
     "name": "stderr",
     "output_type": "stream",
     "text": [
      "\n",
      "[notice] A new release of pip is available: 23.0.1 -> 24.0\n",
      "[notice] To update, run: C:\\Users\\DELL\\AppData\\Local\\Microsoft\\WindowsApps\\PythonSoftwareFoundation.Python.3.10_qbz5n2kfra8p0\\python.exe -m pip install --upgrade pip\n"
     ]
    }
   ],
   "source": [
    "! pip install qrcode[pil] Pillow\n"
   ]
  },
  {
   "cell_type": "code",
   "execution_count": 7,
   "metadata": {},
   "outputs": [
    {
     "name": "stdout",
     "output_type": "stream",
     "text": [
      "Custom QR code saved as C:\\Users\\DELL\\OneDrive\\Desktop\\Sarthaka\\SAR_PROJECTS\\SARVAI_AI_API\\PYTHON\\qrcode_final.png\n"
     ]
    }
   ],
   "source": [
    "#####################################ACTUAL CODE IMPLEMENTAITION#######################################\n",
    "\n",
    "import qrcode\n",
    "from PIL import Image\n",
    "\n",
    "def create_custom_qr(data, color=\"#000000\", background=\"#FFFFFF\", bg_img_path=None, embed_image_path=None, qr_path='custom_qr.png'):\n",
    "    if bg_img_path:\n",
    "        # Load the base image\n",
    "        base_img = Image.open(bg_img_path).convert(\"RGBA\")\n",
    "        img_w, img_h = base_img.size\n",
    "        \n",
    "        # Calculate the average brightness of the image\n",
    "        # (This part is commented out since it's not necessary for the specified modifications)\n",
    "        \n",
    "        # Set QR code color based on brightness if not provided\n",
    "        qr_color = color\n",
    "        \n",
    "        # Generate the QR code\n",
    "        qr = qrcode.QRCode(\n",
    "            version=1,\n",
    "            error_correction=qrcode.constants.ERROR_CORRECT_H,\n",
    "        )\n",
    "        qr.add_data(data)\n",
    "        qr.make(fit=True)\n",
    "        \n",
    "        # Create the QR code image\n",
    "        qr_img = qr.make_image(fill_color=qr_color, back_color=\"transparent\").convert(\"RGBA\")\n",
    "        qr_img = qr_img.resize((img_w, img_h))\n",
    "\n",
    "        # Adjust QR code colors based on the base image\n",
    "        # (This part is commented out since it's not necessary for the specified modifications)\n",
    "\n",
    "        # Composite the QR code onto the image\n",
    "        combined_img = Image.alpha_composite(base_img, qr_img)\n",
    "    else:\n",
    "        # Generate the QR code with specified colors\n",
    "        qr = qrcode.QRCode(\n",
    "            version=1,\n",
    "            error_correction=qrcode.constants.ERROR_CORRECT_H,\n",
    "        )\n",
    "        qr.add_data(data)\n",
    "        qr.make(fit=True)\n",
    "        \n",
    "        # Create the QR code image using specified colors\n",
    "        qr_img = qr.make_image(fill_color=color, back_color=background).convert(\"RGBA\")\n",
    "        combined_img = qr_img\n",
    "\n",
    "    # Embed image in the center of the QR code if provided\n",
    "    if embed_image_path:\n",
    "        embed_image = Image.open(embed_image_path).convert(\"RGBA\")\n",
    "        qr_width, qr_height = qr_img.size\n",
    "        max_size = min(qr_width, qr_height) // 5\n",
    "        embed_image = embed_image.resize((max_size, max_size))\n",
    "        embed_image_width, embed_image_height = embed_image.size\n",
    "        position = ((qr_width - embed_image_width) // 2, (qr_height - embed_image_height) // 2)\n",
    "        combined_img.paste(embed_image, position)\n",
    "\n",
    "    # Save the final image\n",
    "    combined_img.save(qr_path)\n",
    "    print(f\"Custom QR code saved as {qr_path}\")\n",
    "\n",
    "if __name__ == \"__main__\":\n",
    "    data = input(\"Enter the data for the QR code: \")\n",
    "    color = input(\"Enter the hex color for the QR code (default is #000000): \") or \"#000000\"\n",
    "    background = input(\"Enter the hex background color for the QR code (default is #FFFFFF): \") or \"#FFFFFF\"\n",
    "    bg_img_path = input(\"Enter the path of the background image (or leave blank): \")\n",
    "    embed_image_path = input(\"Enter the path of the image to embed in the QR code (or leave blank): \")\n",
    "    qr_path = input(\"Enter the output file path (default is 'custom_qr.png'): \") or 'custom_qr.png'\n",
    "\n",
    "    create_custom_qr(data, color, background, bg_img_path or None, embed_image_path or None, qr_path)\n"
   ]
  },
  {
   "cell_type": "code",
   "execution_count": null,
   "metadata": {},
   "outputs": [],
   "source": [
    "##############################FAST API VERSION################################\n",
    "\n",
    "import qrcode\n",
    "from fastapi import FastAPI, File, Form, UploadFile\n",
    "from PIL import Image\n",
    "from io import BytesIO\n",
    "from fastapi.responses import StreamingResponse\n",
    "\n",
    "app = FastAPI()\n",
    "\n",
    "@app.post(\"/generate_qr/\")\n",
    "async def generate_qr(\n",
    "    qr_data: str = Form(\"aaa\"),\n",
    "    color: str = Form(\"#000000\"),\n",
    "    background: str = Form(\"#FFFFFF\"),\n",
    "    bg_img: UploadFile = File(None),\n",
    "    embed_img: UploadFile = File(None)\n",
    "):\n",
    "    qr = qrcode.QRCode(\n",
    "        version=1,\n",
    "        error_correction=qrcode.constants.ERROR_CORRECT_H,\n",
    "    )\n",
    "    qr.add_data(qr_data)\n",
    "    qr.make(fit=True)\n",
    "    qr_img = qr.make_image(fill_color=color, back_color=background).convert(\"RGBA\")\n",
    "\n",
    "    if bg_img:\n",
    "        bg_img_data = await bg_img.read()\n",
    "        bg_img = Image.open(BytesIO(bg_img_data)).convert(\"RGBA\")\n",
    "        qr_img = qr_img.resize(bg_img.size)\n",
    "        qr_img = Image.alpha_composite(bg_img, qr_img)\n",
    "\n",
    "    if embed_img:\n",
    "        embed_img_data = await embed_img.read()\n",
    "        embed_img = Image.open(BytesIO(embed_img_data)).convert(\"RGBA\")\n",
    "        qr_size = qr_img.size[0]\n",
    "        void_size = qr_size // 5\n",
    "        embed_img.thumbnail((qr_size - void_size * 2, qr_size - void_size * 2))\n",
    "        position = ((qr_img.size[0] - embed_img.size[0]) // 2, (qr_img.size[1] - embed_img.size[1]) // 2)\n",
    "        qr_img.paste(embed_img, position, embed_img)\n",
    "\n",
    "    img_byte_arr = BytesIO()\n",
    "    qr_img.save(img_byte_arr, format='PNG')\n",
    "    img_byte_arr.seek(0)\n",
    "\n",
    "    return StreamingResponse(img_byte_arr, media_type=\"image/png\")\n",
    "\n",
    "\n",
    "\n",
    "#'embed_img': open('C:/Users/DELL/OneDrive/Desktop/Sarthaka/SAR_PROJECTS/SARVAI_AI_API/PYTHON/images/test2.png', 'rb')"
   ]
  },
  {
   "cell_type": "code",
   "execution_count": null,
   "metadata": {},
   "outputs": [],
   "source": [
    "###########################################REQUEST FORMAT#####################################\n",
    "\n",
    "\n",
    "import requests\n",
    "\n",
    "url = \"https://sarvai.onrender.com/generate_qr/\"\n",
    "data = {\n",
    "    'data': 'Your QR code data here',\n",
    "    'color': '#00ff00',\n",
    "    'background': '#00FFFF'\n",
    "}\n",
    "\n",
    "files = {\n",
    "    'bg_img': open(r'C:\\Users\\DELL\\OneDrive\\Desktop\\Sarthaka\\SAR_PROJECTS\\SARVAI_AI_API\\PYTHON\\images\\test.png', 'rb'),\n",
    "    \n",
    "}\n",
    "\n",
    "response = requests.post(url, data=data, files=files)\n",
    "\n",
    "# Save the response content as an image\n",
    "with open('qr_code_result.png', 'wb') as f:\n",
    "    f.write(response.content)\n"
   ]
  }
 ],
 "metadata": {
  "kernelspec": {
   "display_name": "Python 3",
   "language": "python",
   "name": "python3"
  },
  "language_info": {
   "codemirror_mode": {
    "name": "ipython",
    "version": 3
   },
   "file_extension": ".py",
   "mimetype": "text/x-python",
   "name": "python",
   "nbconvert_exporter": "python",
   "pygments_lexer": "ipython3",
   "version": "3.12.4"
  }
 },
 "nbformat": 4,
 "nbformat_minor": 2
}
